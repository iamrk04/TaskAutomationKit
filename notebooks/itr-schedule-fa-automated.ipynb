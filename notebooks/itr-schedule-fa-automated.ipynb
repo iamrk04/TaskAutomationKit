{
 "cells": [
  {
   "attachments": {},
   "cell_type": "markdown",
   "metadata": {},
   "source": [
    "# ITR Schedule FA Automated Data Entry\n",
    "Automatically enter data from an excel file to the ITR Schedule FA in the ITR-2 form.\n",
    "\n",
    "---"
   ]
  },
  {
   "attachments": {},
   "cell_type": "markdown",
   "metadata": {},
   "source": [
    "## Pre-requisites\n",
    "- Download the webdriver for your browser and place it in some directory and keep a note of it. The notebook is currently configured to use the Chrome webdriver and will work for any Chromium based browser. Download the Chrome webdriver from [here](https://chromedriver.chromium.org/downloads).\n",
    "- Following variables are **required to be set** before running the script:\n",
    "\n",
    "| Variable | Description | Example |\n",
    "| --- | --- | --- |\n",
    "| `chrome_driver_path` | Local path to the downloaded webdriver **chromedriver.exe** file | r\"C:\\Files\\chromedriver_win32\\chromedriver.exe\" |\n",
    "| `browser_path` | Local path to the **chrome.exe** file | r\"C:\\Files\\Google\\Chrome\\Application\\chrome.exe\" |\n",
    "| `excel_file_path` | Path to the excel file containing Schedule FA details | r\"C:\\Files\\itr-schedule-fa.xlsx\" |\n",
    "| `home_url` | URL of the ITR filing portal | Already defined below |\n",
    "| `country` | Value for country that will be used in the Schedule FA form at UI  | Already defined below |"
   ]
  },
  {
   "cell_type": "code",
   "execution_count": null,
   "metadata": {},
   "outputs": [],
   "source": [
    "chrome_driver_path = r\"<PATH_TO_CHROME_DRIVER>\"\n",
    "browser_path = r\"<PATH_TO_BROWSER>\"\n",
    "excel_file_path = r\"<PATH_TO_SCHEDULE_FA_REPORT>\"\n",
    "\n",
    "home_url = \"https://eportal.incometax.gov.in\"\n",
    "country = \"2 - UNITED STATES\""
   ]
  },
  {
   "attachments": {},
   "cell_type": "markdown",
   "metadata": {},
   "source": [
    "## Read Excel File\n",
    "The following cell reads in the data from the excel file and stores it in a dataframe named `df`."
   ]
  },
  {
   "cell_type": "code",
   "execution_count": null,
   "metadata": {},
   "outputs": [],
   "source": [
    "import pandas as pd\n",
    "\n",
    "month_map = {\n",
    "    \"01\": \"Jan\",\n",
    "    \"02\": \"Feb\",\n",
    "    \"03\": \"Mar\",\n",
    "    \"04\": \"Apr\",\n",
    "    \"05\": \"May\",\n",
    "    \"06\": \"Jun\",\n",
    "    \"07\": \"Jul\",\n",
    "    \"08\": \"Aug\",\n",
    "    \"09\": \"Sep\",\n",
    "    \"10\": \"Oct\",\n",
    "    \"11\": \"Nov\",\n",
    "    \"12\": \"Dec\",\n",
    "}\n",
    "df = pd.read_excel(excel_file_path)\n",
    "df.head()"
   ]
  },
  {
   "attachments": {},
   "cell_type": "markdown",
   "metadata": {},
   "source": [
    "## Preprocess Data\n",
    "Make sure that the data in the excel file does not contain any null values. If there are any null values, replace them with appropriate values. Also, go through the data and do your own sanity checks to ensure that the data is correct and good to go."
   ]
  },
  {
   "cell_type": "code",
   "execution_count": null,
   "metadata": {},
   "outputs": [],
   "source": [
    "# check null values in df\n",
    "df.isnull().sum()"
   ]
  },
  {
   "attachments": {},
   "cell_type": "markdown",
   "metadata": {},
   "source": [
    "## Open the ITR home page\n",
    "After the following cell is executed, you will see the `home_url` opened in your browser."
   ]
  },
  {
   "cell_type": "code",
   "execution_count": null,
   "metadata": {},
   "outputs": [],
   "source": [
    "from selenium import webdriver\n",
    "from selenium.webdriver.common.by import By\n",
    "from selenium.webdriver.support.ui import Select\n",
    "from time import sleep\n",
    "\n",
    "\n",
    "def get_driver():\n",
    "    options = webdriver.ChromeOptions()\n",
    "    options.add_experimental_option(\"detach\", True)\n",
    "    options.binary_location = browser_path\n",
    "    driver = webdriver.Chrome(chrome_driver_path, options=options)\n",
    "    driver.maximize_window()\n",
    "    return driver\n",
    "\n",
    "\n",
    "driver = get_driver()\n",
    "driver.get(home_url)"
   ]
  },
  {
   "attachments": {},
   "cell_type": "markdown",
   "metadata": {},
   "source": [
    "Now you need to do the following steps **manually** before running the next cell in the opened browser window:\n",
    "- Login to the ITR portal.\n",
    "- Complete the steps and open the **Schedule FA** page in the ITR-2 form.\n",
    "- Make sure to do the first entry manually. The script will start entering data from the second row onwards.\n",
    "- Make sure your page looks like this before running the next cell:<br/>\n",
    "![Schedule FA](../images/schedule-fa-pre-requisite.png)\n",
    "\n",
    "> Note: Notice that the **A3** section in the above image is collapsed. Make sure you have the same state in your web browser window. This is important because the section gets auto collpased when you succesfuly add a row to this section."
   ]
  },
  {
   "attachments": {},
   "cell_type": "markdown",
   "metadata": {},
   "source": [
    "## Copy data from dataframe to the UI\n",
    "The following cell iterates over the dataframe `df` row by row and does the following for each row:\n",
    "- fetches values from the columns (you will need to **modify** the column names based on what you have in the excel file)\n",
    "- gets the UI elements for the corresponding columns\n",
    "- fills the fetched values in the correspoding fetched UI elements\n",
    "- prints the row number after the row is successfully copied (this is helpful in case you want to run the cell again after some error, set `idx_start` to the next row number that was printed in the output)\n",
    "\n",
    "The cell will take time dependiong on the number of rows in your excel file. Please be patient.\n",
    "\n",
    "> Note: The variable `idx_start` is used to specify the row number from which the script should start entering data. This is useful in case you want to run the script again after some error. In that case, you can set the value of `idx_start` to the row number from which you want to start entering data."
   ]
  },
  {
   "cell_type": "code",
   "execution_count": null,
   "metadata": {},
   "outputs": [],
   "source": [
    "idx_start = 1\n",
    "\n",
    "for idx in range(idx_start, len(df)):\n",
    "\n",
    "    # get values for all fields from df\n",
    "    row = df.iloc[idx]\n",
    "    name_of_entity = row[\"Name of entity\"]\n",
    "    address_of_entity = row[\"Address of entity\"]\n",
    "    zip_code = row[\"zip code\"]\n",
    "    nature_of_entity = row[\"Nature of entity\"]\n",
    "    date = str(row[\"Date of acquiring interest/ stake\"])\n",
    "    init_value = str(row[\"Initial value of investment\"])\n",
    "    peak_value = str(row[\"Peak value of investment\"])\n",
    "    closing_value = str(row[\"Closing Balance\"])\n",
    "    gross_amount = str(\n",
    "        row[\n",
    "            \"Total gross amount paid/credited with respect to the holding during the period\"\n",
    "        ]\n",
    "    )\n",
    "    gross_proceeds = str(\n",
    "        row[\n",
    "            \"Total gross proceeds from sale or redemption of investment during the period\"\n",
    "        ]\n",
    "    )\n",
    "\n",
    "    # click on 'A3' section\n",
    "    a3_section = driver.find_element(\n",
    "        By.XPATH, '//*[@id=\"uniservenxtcmp_hyper_490\"]/div/div[1]/div/div/span'\n",
    "    )\n",
    "    a3_section.click()\n",
    "\n",
    "    sleep(2)\n",
    "\n",
    "    # click on 'Add Another' button\n",
    "    add_another_elem = driver.find_element(\n",
    "        By.XPATH, '//*[@id=\"uniservenxtcmp_button_330\"]'\n",
    "    )\n",
    "    add_another_elem.click()\n",
    "\n",
    "    # get all elements from UI\n",
    "    country_elem = driver.find_element(\n",
    "        By.XPATH, '//*[@id=\"uniservenxtcmp_dropdown_164\"]'\n",
    "    )\n",
    "    name_of_entity_elem = driver.find_element(\n",
    "        By.XPATH, '//*[@id=\"uniservenxtcmp_textbox_203\"]'\n",
    "    )\n",
    "    address_of_entity_elem = driver.find_element(\n",
    "        By.XPATH, '//*[@id=\"uniservenxtcmp_textbox_204\"]'\n",
    "    )\n",
    "    zip_code_elem = driver.find_element(\n",
    "        By.XPATH, '//*[@id=\"uniservenxtcmp_textbox_205\"]'\n",
    "    )\n",
    "    nature_of_entity_elem = driver.find_element(\n",
    "        By.XPATH, '//*[@id=\"uniservenxtcmp_textbox_206\"]'\n",
    "    )\n",
    "    date_elem = driver.find_element(By.XPATH, '//*[@id=\"uniservenxtcmp_textbox_471\"]')\n",
    "    init_value_elem = driver.find_element(\n",
    "        By.XPATH, '//*[@id=\"uniservenxtcmp_textbox_207\"]'\n",
    "    )\n",
    "    peak_value_elem = driver.find_element(\n",
    "        By.XPATH, '//*[@id=\"uniservenxtcmp_textbox_208\"]'\n",
    "    )\n",
    "    closing_value_elem = driver.find_element(\n",
    "        By.XPATH, '//*[@id=\"uniservenxtcmp_textbox_209\"]'\n",
    "    )\n",
    "    gross_amount_elem = driver.find_element(\n",
    "        By.XPATH, '//*[@id=\"uniservenxtcmp_textbox_210\"]'\n",
    "    )\n",
    "    gross_proceeds_elem = driver.find_element(\n",
    "        By.XPATH, '//*[@id=\"uniservenxtcmp_textbox_211\"]'\n",
    "    )\n",
    "    add_elem = driver.find_element(By.XPATH, '//*[@id=\"uniservenxtcmp_button_279\"]')\n",
    "\n",
    "    # Put value into country dropdown at UI\n",
    "    country_select = Select(country_elem)\n",
    "    sleep(2)\n",
    "    country_select.select_by_visible_text(country)\n",
    "\n",
    "    # Put value into all other elements at UI\n",
    "    name_of_entity_elem.send_keys(name_of_entity)\n",
    "    address_of_entity_elem.send_keys(address_of_entity)\n",
    "    zip_code_elem.send_keys(zip_code)\n",
    "    nature_of_entity_elem.send_keys(nature_of_entity)\n",
    "    init_value_elem.send_keys(init_value)\n",
    "    peak_value_elem.send_keys(peak_value)\n",
    "    closing_value_elem.send_keys(closing_value)\n",
    "    gross_amount_elem.send_keys(gross_amount)\n",
    "    gross_proceeds_elem.send_keys(gross_proceeds)\n",
    "\n",
    "    # Put value into date element at UI\n",
    "    date_arr = date.split(\"-\")\n",
    "    year, month, day = date_arr[0], month_map[date_arr[1]], date_arr[2]\n",
    "    date_elem.click()\n",
    "    month_year_elem = driver.find_element(\n",
    "        By.XPATH, \"/html/body/div[5]/div[1]/table/thead/tr[2]/th[1]\"\n",
    "    )\n",
    "    month_year_elem.click()\n",
    "    year_elem = driver.find_element(\n",
    "        By.XPATH, \"/html/body/div[5]/div[2]/table/thead/tr[2]/th[1]\"\n",
    "    )\n",
    "    year_elem.click()\n",
    "    year_box = driver.find_element(By.XPATH, f\"//*[text()='{year}']\")\n",
    "    year_box.click()\n",
    "    month_box = driver.find_element(By.XPATH, f\"//*[text()='{month}']\")\n",
    "    month_box.click()\n",
    "    day_box = driver.find_element(\n",
    "        By.XPATH, f\"//td[@class='day' and text()='{int(day)}']\"\n",
    "    )\n",
    "    sleep(1)\n",
    "    day_box.click()\n",
    "\n",
    "    # click on 'Add' button to add all the filled details\n",
    "    add_elem.click()\n",
    "\n",
    "    print(f\"idx: {idx} copied successfully.\")\n",
    "    sleep(1)\n",
    "\n",
    "print(\"-------------Task Completed-------------\")"
   ]
  },
  {
   "attachments": {},
   "cell_type": "markdown",
   "metadata": {},
   "source": [
    "## Troubleshooting\n",
    "Whenever the above cell fails, firstly you **must make sure that the page is back to the same state** as [mentioned earlier](../images/schedule-fa-pre-requisite.png) and then you should do the following in order until the issue is resolved:\n",
    "- The cell will print the last row number that was successful. You can set the value of `idx_start` to the last succesful row number + 1 and run the cell again. This will start entering data from the row where it failed.\n",
    "- If you see the same error again, identify the line where it fails. Put a `time.sleep(2)` before the failed line if it's not already there or try increasing the value of `time.sleep()` and run the cell again.\n",
    "\n",
    "> Note: If you can't resolve the error, feel free to create an issue on the [GitHub repository](https://github.com/iamrk04/TaskAutomationKit/issues). Make sure to include the error message with the entire stacktrace."
   ]
  },
  {
   "attachments": {},
   "cell_type": "markdown",
   "metadata": {},
   "source": [
    "## Disclaimer\n",
    "- This is a personal project and is not affiliated with the Income Tax Department of India in any way.\n",
    "- Make sure to **verify the data entered** by the script before submitting the form.\n",
    "- The author does not make any warranty, express or implied, or assume any legal/consequential liability, or responsibility for the authenticity, accuracy and completeness of the data filled at website.\n",
    "- The author is not responsible for any loss or damage caused by the use of this software."
   ]
  }
 ],
 "metadata": {
  "kernelspec": {
   "display_name": "pytorch",
   "language": "python",
   "name": "python3"
  },
  "language_info": {
   "codemirror_mode": {
    "name": "ipython",
    "version": 3
   },
   "file_extension": ".py",
   "mimetype": "text/x-python",
   "name": "python",
   "nbconvert_exporter": "python",
   "pygments_lexer": "ipython3",
   "version": "3.10.10"
  }
 },
 "nbformat": 4,
 "nbformat_minor": 2
}
